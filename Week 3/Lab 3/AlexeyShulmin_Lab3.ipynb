{
 "cells": [
  {
   "cell_type": "markdown",
   "id": "27ce6e23-d55c-45e6-95c1-f044398a62d9",
   "metadata": {},
   "source": [
    "## Part 0 ##\n",
    "Import necessary libraries and functions"
   ]
  },
  {
   "cell_type": "code",
   "execution_count": 1,
   "id": "99dbca77-efbe-4aaf-b92b-e2f329901871",
   "metadata": {},
   "outputs": [],
   "source": [
    "from dataclasses import dataclass\n",
    "from typing import *\n",
    "import numpy as np\n",
    "from scipy.stats import beta, chi2, poisson"
   ]
  },
  {
   "cell_type": "markdown",
   "id": "25f581fc-2303-4c47-93aa-a68fbadb3f18",
   "metadata": {},
   "source": [
    "## Part 2 ##\n",
    "I decided to store information about relevance only, since for the all of the metrics from lecture 5 important is knowledge if document is relevant or not and the order of documents, which can be stored in one boolean array."
   ]
  },
  {
   "cell_type": "code",
   "execution_count": 2,
   "id": "042f48ae-e905-4cdc-8aa6-17b03ae5cdd7",
   "metadata": {},
   "outputs": [],
   "source": [
    "@dataclass\n",
    "class Relevance:\n",
    "    is_relevant: np.ndarray[np.bool_]\n",
    "\n",
    "\n",
    "# I made 'kwargs' parameter to allow flexibility in choosing distribution\n",
    "# for instance, using kwargs one can set a and b parameters for beta distribution (kwargs={'a':2, 'b':2} => beta.rvs(a=2, b=2))\n",
    "def fake_search_result(distribution: Callable, kwargs: Dict, sample_size: int, relevance_percentage: float = 0.25) -> Relevance:\n",
    "    is_relevant = np.random.rand(sample_size) < relevance_percentage\n",
    "    is_relevant[-1] = True\n",
    "    # here I use distribution to generate initial scores of fictional documents, get their sorted indices and rearrange relevance array according to them\n",
    "    return Relevance(is_relevant=is_relevant[np.argsort(np.array(distribution(**kwargs, size=sample_size)))])"
   ]
  },
  {
   "cell_type": "markdown",
   "id": "365e7d87-d0f5-47f0-b1d7-29908c9e3007",
   "metadata": {},
   "source": [
    "## Parts 1 and 3 ##\n",
    "Ranking metrics of my choice are precision@k, F-beta@k, and RR(reciprocal rank)."
   ]
  },
  {
   "cell_type": "code",
   "execution_count": 3,
   "id": "343e840e-3912-401f-bfec-c7642a904a48",
   "metadata": {},
   "outputs": [],
   "source": [
    "class Ranking:\n",
    "    # to create an instance of class Ranking one should provide an instance of class Relevance and the k value for each of the metrics\n",
    "    def __init__(self, search_result: Relevance, k: int):\n",
    "        self.search_result = search_result\n",
    "        self.k = k\n",
    "\n",
    "    # precision@k calculated as per slides: amount of relevant documents in first k documents / k\n",
    "    def precision_k(self) -> float:\n",
    "        return np.sum(self.search_result.is_relevant[:self.k]) / self.k\n",
    "\n",
    "    # to calculate F-beta@k I also need recall@k\n",
    "    # recall@k calculated as per slides: amount of relevant documents in first k documents / amount of all relevant documents\n",
    "    def recall_k(self) -> float:\n",
    "        return np.sum(self.search_result.is_relevant[:self.k]) / np.sum(self.search_result.is_relevant)\n",
    "\n",
    "    # F-beta@k also is taken from slides, standard value of beta = 1 for convenience\n",
    "    def fbeta_k(self, b: float = 1.0) -> float:\n",
    "        precision = self.precision_k()\n",
    "        recall = self.recall_k()\n",
    "        # introduced condition to resolve cases with 0 precision and 0 recall leading to division by zero\n",
    "        return (1 + b ** 2) * precision * recall / ((precision * b ** 2) + recall) if precision != 0 or recall != 0 else 0\n",
    "        \n",
    "    # RR from slides, np.where() helps to find first relevant document without loops\n",
    "    def reciprocal_rank(self) -> float:\n",
    "        rank = np.where(self.search_result.is_relevant)[0][0] + 1\n",
    "        return 1 / rank\n",
    "\n",
    "    def display_results(self) -> None:\n",
    "        print(\"Relevance: \", self.search_result.is_relevant)\n",
    "        print(f\"Precision@{self.k}: {self.precision_k()}\")\n",
    "        print(f\"Recall@{self.k}: {self.recall_k()}\")\n",
    "        print(f\"F-beta@{self.k}: {self.fbeta_k()}\")\n",
    "        print(f\"RR: {self.reciprocal_rank()}\", end='\\n\\n')"
   ]
  },
  {
   "cell_type": "markdown",
   "id": "c7c84bd8-c54f-406c-92c5-42f6e41257f0",
   "metadata": {},
   "source": [
    "## Part 4 ##\n",
    "Evaluating my ranking metrics with different distributions (beta, chi-squared, and poisson)"
   ]
  },
  {
   "cell_type": "code",
   "execution_count": 4,
   "id": "37a94202-1e04-4977-a57d-6d2030f36c82",
   "metadata": {},
   "outputs": [
    {
     "name": "stdout",
     "output_type": "stream",
     "text": [
      "Distribution:  beta\n",
      "Relevance:  [False False  True False False  True False  True False  True False False\n",
      "  True  True False  True False False False False False False  True False\n",
      " False]\n",
      "Precision@5: 0.2\n",
      "Recall@5: 0.125\n",
      "F-beta@5: 0.15384615384615385\n",
      "RR: 0.3333333333333333\n",
      "\n",
      "Distribution:  chi2\n",
      "Relevance:  [False  True False False False False  True  True False False  True False\n",
      " False False False False  True False False False False  True False False\n",
      " False]\n",
      "Precision@5: 0.2\n",
      "Recall@5: 0.16666666666666666\n",
      "F-beta@5: 0.1818181818181818\n",
      "RR: 0.5\n",
      "\n",
      "Distribution:  poisson\n",
      "Relevance:  [ True  True False  True False False False False False False False  True\n",
      " False False  True False  True False False False  True False False  True\n",
      " False]\n",
      "Precision@5: 0.6\n",
      "Recall@5: 0.375\n",
      "F-beta@5: 0.4615384615384615\n",
      "RR: 1.0\n",
      "\n"
     ]
    }
   ],
   "source": [
    "# dict for info about distributions\n",
    "d = {'distribution': [beta.rvs, chi2.rvs, poisson.rvs], 'kwargs': [{'a': 2, 'b': 2}, {'df': 4}, {'mu': 10}]}\n",
    "for i in range(3):\n",
    "    # name of the ditribution for reference\n",
    "    print(\"Distribution: \", str(d['distribution'][i]).split('.')[-1].split('_')[0])\n",
    "    # initialize an instance of Ranking class with different distributions and display the results\n",
    "    Ranking(fake_search_result(distribution=d['distribution'][i], kwargs=d['kwargs'][i], sample_size=25), k=5).display_results()"
   ]
  },
  {
   "cell_type": "code",
   "execution_count": null,
   "id": "2001f51a-bba8-414b-b5b0-e8989e3a73eb",
   "metadata": {},
   "outputs": [],
   "source": []
  }
 ],
 "metadata": {
  "kernelspec": {
   "display_name": "Python 3 (ipykernel)",
   "language": "python",
   "name": "python3"
  },
  "language_info": {
   "codemirror_mode": {
    "name": "ipython",
    "version": 3
   },
   "file_extension": ".py",
   "mimetype": "text/x-python",
   "name": "python",
   "nbconvert_exporter": "python",
   "pygments_lexer": "ipython3",
   "version": "3.11.7"
  }
 },
 "nbformat": 4,
 "nbformat_minor": 5
}
